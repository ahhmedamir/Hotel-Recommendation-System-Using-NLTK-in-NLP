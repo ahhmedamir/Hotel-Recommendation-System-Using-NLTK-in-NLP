{
  "cells": [
    {
      "cell_type": "code",
      "execution_count": 25,
      "metadata": {
        "colab": {
          "base_uri": "https://localhost:8080/"
        },
        "id": "uC_olRVZVyn_",
        "outputId": "f0829d77-4155-4d84-94da-a8dcbd3ce58d"
      },
      "outputs": [
        {
          "name": "stderr",
          "output_type": "stream",
          "text": [
            "[nltk_data] Downloading package punkt to /Users/slash/nltk_data...\n",
            "[nltk_data]   Package punkt is already up-to-date!\n",
            "[nltk_data] Downloading package stopwords to /Users/slash/nltk_data...\n",
            "[nltk_data]   Package stopwords is already up-to-date!\n",
            "[nltk_data] Downloading package wordnet to /Users/slash/nltk_data...\n",
            "[nltk_data]   Package wordnet is already up-to-date!\n",
            "[nltk_data] Downloading package omw-1.4 to /Users/slash/nltk_data...\n",
            "[nltk_data]   Package omw-1.4 is already up-to-date!\n"
          ]
        }
      ],
      "source": [
        "import pandas as pd\n",
        "import numpy as np\n",
        "import nltk\n",
        "from nltk.corpus import stopwords\n",
        "from nltk.tokenize  import word_tokenize, sent_tokenize\n",
        "from nltk.stem.wordnet import WordNetLemmatizer\n",
        "nltk.download(\"punkt\")\n",
        "nltk.download(\"stopwords\")\n",
        "nltk.download(\"wordnet\")\n",
        "nltk.download(\"omw-1.4\")\n",
        "from ast import literal_eval"
      ]
    },
    {
      "cell_type": "code",
      "execution_count": 7,
      "metadata": {},
      "outputs": [
        {
          "data": {
            "text/plain": [
              "'\\n\\nhttps://www.kaggle.com/datasets/jiashenliu/515k-hotel-reviews-data-in-europe\\n\\n'"
            ]
          },
          "execution_count": 7,
          "metadata": {},
          "output_type": "execute_result"
        }
      ],
      "source": [
        "#  copy this link to download dataset\n",
        "'''\n",
        "\n",
        "https://www.kaggle.com/datasets/jiashenliu/515k-hotel-reviews-data-in-europe\n",
        "\n",
        "'''"
      ]
    },
    {
      "cell_type": "code",
      "execution_count": 26,
      "metadata": {
        "id": "2uvkF9gaW9YH"
      },
      "outputs": [
        {
          "data": {
            "text/html": [
              "<div>\n",
              "<style scoped>\n",
              "    .dataframe tbody tr th:only-of-type {\n",
              "        vertical-align: middle;\n",
              "    }\n",
              "\n",
              "    .dataframe tbody tr th {\n",
              "        vertical-align: top;\n",
              "    }\n",
              "\n",
              "    .dataframe thead th {\n",
              "        text-align: right;\n",
              "    }\n",
              "</style>\n",
              "<table border=\"1\" class=\"dataframe\">\n",
              "  <thead>\n",
              "    <tr style=\"text-align: right;\">\n",
              "      <th></th>\n",
              "      <th>Hotel_Address</th>\n",
              "      <th>Additional_Number_of_Scoring</th>\n",
              "      <th>Review_Date</th>\n",
              "      <th>Average_Score</th>\n",
              "      <th>Hotel_Name</th>\n",
              "      <th>Reviewer_Nationality</th>\n",
              "      <th>Negative_Review</th>\n",
              "      <th>Review_Total_Negative_Word_Counts</th>\n",
              "      <th>Total_Number_of_Reviews</th>\n",
              "      <th>Positive_Review</th>\n",
              "      <th>Review_Total_Positive_Word_Counts</th>\n",
              "      <th>Total_Number_of_Reviews_Reviewer_Has_Given</th>\n",
              "      <th>Reviewer_Score</th>\n",
              "      <th>Tags</th>\n",
              "      <th>days_since_review</th>\n",
              "      <th>lat</th>\n",
              "      <th>lng</th>\n",
              "    </tr>\n",
              "  </thead>\n",
              "  <tbody>\n",
              "    <tr>\n",
              "      <th>0</th>\n",
              "      <td>s Gravesandestraat 55 Oost 1092 AA Amsterdam ...</td>\n",
              "      <td>194</td>\n",
              "      <td>8/3/2017</td>\n",
              "      <td>7.7</td>\n",
              "      <td>Hotel Arena</td>\n",
              "      <td>Russia</td>\n",
              "      <td>I am so angry that i made this post available...</td>\n",
              "      <td>397</td>\n",
              "      <td>1403</td>\n",
              "      <td>Only the park outside of the hotel was beauti...</td>\n",
              "      <td>11</td>\n",
              "      <td>7</td>\n",
              "      <td>2.9</td>\n",
              "      <td>[' Leisure trip ', ' Couple ', ' Duplex Double...</td>\n",
              "      <td>0 days</td>\n",
              "      <td>52.360576</td>\n",
              "      <td>4.915968</td>\n",
              "    </tr>\n",
              "    <tr>\n",
              "      <th>1</th>\n",
              "      <td>s Gravesandestraat 55 Oost 1092 AA Amsterdam ...</td>\n",
              "      <td>194</td>\n",
              "      <td>8/3/2017</td>\n",
              "      <td>7.7</td>\n",
              "      <td>Hotel Arena</td>\n",
              "      <td>Ireland</td>\n",
              "      <td>No Negative</td>\n",
              "      <td>0</td>\n",
              "      <td>1403</td>\n",
              "      <td>No real complaints the hotel was great great ...</td>\n",
              "      <td>105</td>\n",
              "      <td>7</td>\n",
              "      <td>7.5</td>\n",
              "      <td>[' Leisure trip ', ' Couple ', ' Duplex Double...</td>\n",
              "      <td>0 days</td>\n",
              "      <td>52.360576</td>\n",
              "      <td>4.915968</td>\n",
              "    </tr>\n",
              "    <tr>\n",
              "      <th>2</th>\n",
              "      <td>s Gravesandestraat 55 Oost 1092 AA Amsterdam ...</td>\n",
              "      <td>194</td>\n",
              "      <td>7/31/2017</td>\n",
              "      <td>7.7</td>\n",
              "      <td>Hotel Arena</td>\n",
              "      <td>Australia</td>\n",
              "      <td>Rooms are nice but for elderly a bit difficul...</td>\n",
              "      <td>42</td>\n",
              "      <td>1403</td>\n",
              "      <td>Location was good and staff were ok It is cut...</td>\n",
              "      <td>21</td>\n",
              "      <td>9</td>\n",
              "      <td>7.1</td>\n",
              "      <td>[' Leisure trip ', ' Family with young childre...</td>\n",
              "      <td>3 days</td>\n",
              "      <td>52.360576</td>\n",
              "      <td>4.915968</td>\n",
              "    </tr>\n",
              "    <tr>\n",
              "      <th>3</th>\n",
              "      <td>s Gravesandestraat 55 Oost 1092 AA Amsterdam ...</td>\n",
              "      <td>194</td>\n",
              "      <td>7/31/2017</td>\n",
              "      <td>7.7</td>\n",
              "      <td>Hotel Arena</td>\n",
              "      <td>United Kingdom</td>\n",
              "      <td>My room was dirty and I was afraid to walk ba...</td>\n",
              "      <td>210</td>\n",
              "      <td>1403</td>\n",
              "      <td>Great location in nice surroundings the bar a...</td>\n",
              "      <td>26</td>\n",
              "      <td>1</td>\n",
              "      <td>3.8</td>\n",
              "      <td>[' Leisure trip ', ' Solo traveler ', ' Duplex...</td>\n",
              "      <td>3 days</td>\n",
              "      <td>52.360576</td>\n",
              "      <td>4.915968</td>\n",
              "    </tr>\n",
              "    <tr>\n",
              "      <th>4</th>\n",
              "      <td>s Gravesandestraat 55 Oost 1092 AA Amsterdam ...</td>\n",
              "      <td>194</td>\n",
              "      <td>7/24/2017</td>\n",
              "      <td>7.7</td>\n",
              "      <td>Hotel Arena</td>\n",
              "      <td>New Zealand</td>\n",
              "      <td>You When I booked with your company on line y...</td>\n",
              "      <td>140</td>\n",
              "      <td>1403</td>\n",
              "      <td>Amazing location and building Romantic setting</td>\n",
              "      <td>8</td>\n",
              "      <td>3</td>\n",
              "      <td>6.7</td>\n",
              "      <td>[' Leisure trip ', ' Couple ', ' Suite ', ' St...</td>\n",
              "      <td>10 days</td>\n",
              "      <td>52.360576</td>\n",
              "      <td>4.915968</td>\n",
              "    </tr>\n",
              "  </tbody>\n",
              "</table>\n",
              "</div>"
            ],
            "text/plain": [
              "                                       Hotel_Address  \\\n",
              "0   s Gravesandestraat 55 Oost 1092 AA Amsterdam ...   \n",
              "1   s Gravesandestraat 55 Oost 1092 AA Amsterdam ...   \n",
              "2   s Gravesandestraat 55 Oost 1092 AA Amsterdam ...   \n",
              "3   s Gravesandestraat 55 Oost 1092 AA Amsterdam ...   \n",
              "4   s Gravesandestraat 55 Oost 1092 AA Amsterdam ...   \n",
              "\n",
              "   Additional_Number_of_Scoring Review_Date  Average_Score   Hotel_Name  \\\n",
              "0                           194    8/3/2017            7.7  Hotel Arena   \n",
              "1                           194    8/3/2017            7.7  Hotel Arena   \n",
              "2                           194   7/31/2017            7.7  Hotel Arena   \n",
              "3                           194   7/31/2017            7.7  Hotel Arena   \n",
              "4                           194   7/24/2017            7.7  Hotel Arena   \n",
              "\n",
              "  Reviewer_Nationality                                    Negative_Review  \\\n",
              "0              Russia    I am so angry that i made this post available...   \n",
              "1             Ireland                                         No Negative   \n",
              "2           Australia    Rooms are nice but for elderly a bit difficul...   \n",
              "3      United Kingdom    My room was dirty and I was afraid to walk ba...   \n",
              "4         New Zealand    You When I booked with your company on line y...   \n",
              "\n",
              "   Review_Total_Negative_Word_Counts  Total_Number_of_Reviews  \\\n",
              "0                                397                     1403   \n",
              "1                                  0                     1403   \n",
              "2                                 42                     1403   \n",
              "3                                210                     1403   \n",
              "4                                140                     1403   \n",
              "\n",
              "                                     Positive_Review  \\\n",
              "0   Only the park outside of the hotel was beauti...   \n",
              "1   No real complaints the hotel was great great ...   \n",
              "2   Location was good and staff were ok It is cut...   \n",
              "3   Great location in nice surroundings the bar a...   \n",
              "4    Amazing location and building Romantic setting    \n",
              "\n",
              "   Review_Total_Positive_Word_Counts  \\\n",
              "0                                 11   \n",
              "1                                105   \n",
              "2                                 21   \n",
              "3                                 26   \n",
              "4                                  8   \n",
              "\n",
              "   Total_Number_of_Reviews_Reviewer_Has_Given  Reviewer_Score  \\\n",
              "0                                           7             2.9   \n",
              "1                                           7             7.5   \n",
              "2                                           9             7.1   \n",
              "3                                           1             3.8   \n",
              "4                                           3             6.7   \n",
              "\n",
              "                                                Tags days_since_review  \\\n",
              "0  [' Leisure trip ', ' Couple ', ' Duplex Double...            0 days   \n",
              "1  [' Leisure trip ', ' Couple ', ' Duplex Double...            0 days   \n",
              "2  [' Leisure trip ', ' Family with young childre...            3 days   \n",
              "3  [' Leisure trip ', ' Solo traveler ', ' Duplex...            3 days   \n",
              "4  [' Leisure trip ', ' Couple ', ' Suite ', ' St...           10 days   \n",
              "\n",
              "         lat       lng  \n",
              "0  52.360576  4.915968  \n",
              "1  52.360576  4.915968  \n",
              "2  52.360576  4.915968  \n",
              "3  52.360576  4.915968  \n",
              "4  52.360576  4.915968  "
            ]
          },
          "execution_count": 26,
          "metadata": {},
          "output_type": "execute_result"
        }
      ],
      "source": [
        "data = pd.read_csv(\"Hotel_Reviews.csv\")\n",
        "data.head()"
      ]
    },
    {
      "cell_type": "code",
      "execution_count": 27,
      "metadata": {
        "colab": {
          "base_uri": "https://localhost:8080/"
        },
        "id": "Y8ywxXsqX0QH",
        "outputId": "5b60cb72-c317-4500-e5b2-75e112d722bc"
      },
      "outputs": [
        {
          "data": {
            "text/plain": [
              "(515738, 17)"
            ]
          },
          "execution_count": 27,
          "metadata": {},
          "output_type": "execute_result"
        }
      ],
      "source": [
        "data.shape"
      ]
    },
    {
      "cell_type": "code",
      "execution_count": 28,
      "metadata": {
        "id": "1C_MOLxIX0TC"
      },
      "outputs": [],
      "source": [
        "# for simplicty will change the countroes name to Alpgha-2 codes\n",
        "data.Hotel_Address = data.Hotel_Address.str.replace(\"Netherlands\", \"NL\")\n",
        "data.Hotel_Address = data.Hotel_Address.str.replace(\"United Kingdom\", \"UK\")\n",
        "data.Hotel_Address = data.Hotel_Address.str.replace(\"France\", \"FR\")\n",
        "data.Hotel_Address = data.Hotel_Address.str.replace(\"Italy\", \"IT\")\n",
        "data.Hotel_Address = data.Hotel_Address.str.replace(\"Spain\", \"SP\")\n",
        "data.Hotel_Address = data.Hotel_Address.str.replace(\"Austria\", \"AT\")"
      ]
    },
    {
      "cell_type": "code",
      "execution_count": 29,
      "metadata": {
        "colab": {
          "base_uri": "https://localhost:8080/",
          "height": 188
        },
        "id": "VRHdB9c_KEnF",
        "outputId": "141175ea-603b-46b9-b7d2-294345598492"
      },
      "outputs": [
        {
          "data": {
            "text/plain": [
              "0     s Gravesandestraat 55 Oost 1092 AA Amsterdam NL\n",
              "1     s Gravesandestraat 55 Oost 1092 AA Amsterdam NL\n",
              "2     s Gravesandestraat 55 Oost 1092 AA Amsterdam NL\n",
              "3     s Gravesandestraat 55 Oost 1092 AA Amsterdam NL\n",
              "4     s Gravesandestraat 55 Oost 1092 AA Amsterdam NL\n",
              "Name: Hotel_Address, dtype: object"
            ]
          },
          "execution_count": 29,
          "metadata": {},
          "output_type": "execute_result"
        }
      ],
      "source": [
        "data.Hotel_Address.head(5)"
      ]
    },
    {
      "cell_type": "code",
      "execution_count": 30,
      "metadata": {
        "id": "bcSgNkdAX0YX"
      },
      "outputs": [
        {
          "data": {
            "text/plain": [
              "array(['NL', 'UK', 'FR', 'SP', 'IT', 'AT'], dtype=object)"
            ]
          },
          "execution_count": 30,
          "metadata": {},
          "output_type": "execute_result"
        }
      ],
      "source": [
        "#  will add or deriv a new cloumn from last string at hotel address with specify where the hotel loctated\n",
        "# data[\"countries\"] =[ x[-2:] for x in data.Hotel_Address]\n",
        "data[\"countries\"] = data.Hotel_Address.apply(lambda x: x.split(' ')[-1])\n",
        "\n",
        "# to make sure that Counties added will use unique() to retrieve unique words at the column\n",
        "data.countries.unique()\n",
        "\n",
        "# data[data['countries'] == 'NL']"
      ]
    },
    {
      "cell_type": "code",
      "execution_count": 31,
      "metadata": {
        "id": "YaWYZjalJRsh"
      },
      "outputs": [
        {
          "data": {
            "text/html": [
              "<div>\n",
              "<style scoped>\n",
              "    .dataframe tbody tr th:only-of-type {\n",
              "        vertical-align: middle;\n",
              "    }\n",
              "\n",
              "    .dataframe tbody tr th {\n",
              "        vertical-align: top;\n",
              "    }\n",
              "\n",
              "    .dataframe thead th {\n",
              "        text-align: right;\n",
              "    }\n",
              "</style>\n",
              "<table border=\"1\" class=\"dataframe\">\n",
              "  <thead>\n",
              "    <tr style=\"text-align: right;\">\n",
              "      <th></th>\n",
              "      <th>Hotel_Address</th>\n",
              "      <th>Average_Score</th>\n",
              "      <th>Hotel_Name</th>\n",
              "      <th>Tags</th>\n",
              "      <th>countries</th>\n",
              "    </tr>\n",
              "  </thead>\n",
              "  <tbody>\n",
              "    <tr>\n",
              "      <th>0</th>\n",
              "      <td>s Gravesandestraat 55 Oost 1092 AA Amsterdam NL</td>\n",
              "      <td>7.7</td>\n",
              "      <td>Hotel Arena</td>\n",
              "      <td>[' Leisure trip ', ' Couple ', ' Duplex Double...</td>\n",
              "      <td>NL</td>\n",
              "    </tr>\n",
              "    <tr>\n",
              "      <th>1</th>\n",
              "      <td>s Gravesandestraat 55 Oost 1092 AA Amsterdam NL</td>\n",
              "      <td>7.7</td>\n",
              "      <td>Hotel Arena</td>\n",
              "      <td>[' Leisure trip ', ' Couple ', ' Duplex Double...</td>\n",
              "      <td>NL</td>\n",
              "    </tr>\n",
              "    <tr>\n",
              "      <th>2</th>\n",
              "      <td>s Gravesandestraat 55 Oost 1092 AA Amsterdam NL</td>\n",
              "      <td>7.7</td>\n",
              "      <td>Hotel Arena</td>\n",
              "      <td>[' Leisure trip ', ' Family with young childre...</td>\n",
              "      <td>NL</td>\n",
              "    </tr>\n",
              "    <tr>\n",
              "      <th>3</th>\n",
              "      <td>s Gravesandestraat 55 Oost 1092 AA Amsterdam NL</td>\n",
              "      <td>7.7</td>\n",
              "      <td>Hotel Arena</td>\n",
              "      <td>[' Leisure trip ', ' Solo traveler ', ' Duplex...</td>\n",
              "      <td>NL</td>\n",
              "    </tr>\n",
              "    <tr>\n",
              "      <th>4</th>\n",
              "      <td>s Gravesandestraat 55 Oost 1092 AA Amsterdam NL</td>\n",
              "      <td>7.7</td>\n",
              "      <td>Hotel Arena</td>\n",
              "      <td>[' Leisure trip ', ' Couple ', ' Suite ', ' St...</td>\n",
              "      <td>NL</td>\n",
              "    </tr>\n",
              "    <tr>\n",
              "      <th>...</th>\n",
              "      <td>...</td>\n",
              "      <td>...</td>\n",
              "      <td>...</td>\n",
              "      <td>...</td>\n",
              "      <td>...</td>\n",
              "    </tr>\n",
              "    <tr>\n",
              "      <th>515733</th>\n",
              "      <td>Wurzbachgasse 21 15 Rudolfsheim F nfhaus 1150 ...</td>\n",
              "      <td>8.1</td>\n",
              "      <td>Atlantis Hotel Vienna</td>\n",
              "      <td>[' Leisure trip ', ' Family with older childre...</td>\n",
              "      <td>AT</td>\n",
              "    </tr>\n",
              "    <tr>\n",
              "      <th>515734</th>\n",
              "      <td>Wurzbachgasse 21 15 Rudolfsheim F nfhaus 1150 ...</td>\n",
              "      <td>8.1</td>\n",
              "      <td>Atlantis Hotel Vienna</td>\n",
              "      <td>[' Leisure trip ', ' Family with young childre...</td>\n",
              "      <td>AT</td>\n",
              "    </tr>\n",
              "    <tr>\n",
              "      <th>515735</th>\n",
              "      <td>Wurzbachgasse 21 15 Rudolfsheim F nfhaus 1150 ...</td>\n",
              "      <td>8.1</td>\n",
              "      <td>Atlantis Hotel Vienna</td>\n",
              "      <td>[' Leisure trip ', ' Family with older childre...</td>\n",
              "      <td>AT</td>\n",
              "    </tr>\n",
              "    <tr>\n",
              "      <th>515736</th>\n",
              "      <td>Wurzbachgasse 21 15 Rudolfsheim F nfhaus 1150 ...</td>\n",
              "      <td>8.1</td>\n",
              "      <td>Atlantis Hotel Vienna</td>\n",
              "      <td>[' Leisure trip ', ' Group ', ' Standard Tripl...</td>\n",
              "      <td>AT</td>\n",
              "    </tr>\n",
              "    <tr>\n",
              "      <th>515737</th>\n",
              "      <td>Wurzbachgasse 21 15 Rudolfsheim F nfhaus 1150 ...</td>\n",
              "      <td>8.1</td>\n",
              "      <td>Atlantis Hotel Vienna</td>\n",
              "      <td>[' Leisure trip ', ' Family with young childre...</td>\n",
              "      <td>AT</td>\n",
              "    </tr>\n",
              "  </tbody>\n",
              "</table>\n",
              "<p>515738 rows × 5 columns</p>\n",
              "</div>"
            ],
            "text/plain": [
              "                                            Hotel_Address  Average_Score  \\\n",
              "0         s Gravesandestraat 55 Oost 1092 AA Amsterdam NL            7.7   \n",
              "1         s Gravesandestraat 55 Oost 1092 AA Amsterdam NL            7.7   \n",
              "2         s Gravesandestraat 55 Oost 1092 AA Amsterdam NL            7.7   \n",
              "3         s Gravesandestraat 55 Oost 1092 AA Amsterdam NL            7.7   \n",
              "4         s Gravesandestraat 55 Oost 1092 AA Amsterdam NL            7.7   \n",
              "...                                                   ...            ...   \n",
              "515733  Wurzbachgasse 21 15 Rudolfsheim F nfhaus 1150 ...            8.1   \n",
              "515734  Wurzbachgasse 21 15 Rudolfsheim F nfhaus 1150 ...            8.1   \n",
              "515735  Wurzbachgasse 21 15 Rudolfsheim F nfhaus 1150 ...            8.1   \n",
              "515736  Wurzbachgasse 21 15 Rudolfsheim F nfhaus 1150 ...            8.1   \n",
              "515737  Wurzbachgasse 21 15 Rudolfsheim F nfhaus 1150 ...            8.1   \n",
              "\n",
              "                   Hotel_Name  \\\n",
              "0                 Hotel Arena   \n",
              "1                 Hotel Arena   \n",
              "2                 Hotel Arena   \n",
              "3                 Hotel Arena   \n",
              "4                 Hotel Arena   \n",
              "...                       ...   \n",
              "515733  Atlantis Hotel Vienna   \n",
              "515734  Atlantis Hotel Vienna   \n",
              "515735  Atlantis Hotel Vienna   \n",
              "515736  Atlantis Hotel Vienna   \n",
              "515737  Atlantis Hotel Vienna   \n",
              "\n",
              "                                                     Tags countries  \n",
              "0       [' Leisure trip ', ' Couple ', ' Duplex Double...        NL  \n",
              "1       [' Leisure trip ', ' Couple ', ' Duplex Double...        NL  \n",
              "2       [' Leisure trip ', ' Family with young childre...        NL  \n",
              "3       [' Leisure trip ', ' Solo traveler ', ' Duplex...        NL  \n",
              "4       [' Leisure trip ', ' Couple ', ' Suite ', ' St...        NL  \n",
              "...                                                   ...       ...  \n",
              "515733  [' Leisure trip ', ' Family with older childre...        AT  \n",
              "515734  [' Leisure trip ', ' Family with young childre...        AT  \n",
              "515735  [' Leisure trip ', ' Family with older childre...        AT  \n",
              "515736  [' Leisure trip ', ' Group ', ' Standard Tripl...        AT  \n",
              "515737  [' Leisure trip ', ' Family with young childre...        AT  \n",
              "\n",
              "[515738 rows x 5 columns]"
            ]
          },
          "execution_count": 31,
          "metadata": {},
          "output_type": "execute_result"
        }
      ],
      "source": [
        "# will work in new dataset\n",
        "data.drop(['Additional_Number_of_Scoring', 'Review_Date',\n",
        "       'Reviewer_Nationality',\n",
        "       'Negative_Review', 'Review_Total_Negative_Word_Counts',\n",
        "       'Total_Number_of_Reviews', 'Positive_Review',\n",
        "       'Review_Total_Positive_Word_Counts',\n",
        "       'Total_Number_of_Reviews_Reviewer_Has_Given', 'Reviewer_Score',\n",
        "       'days_since_review', 'lat', 'lng'],axis=1,inplace=True)\n",
        "\n",
        "data"
      ]
    },
    {
      "cell_type": "code",
      "execution_count": 32,
      "metadata": {
        "id": "7u9fD8lxFjrf"
      },
      "outputs": [],
      "source": [
        "# create a function help us to convert object(pandas.core.series.Series) to List then to Sring from Tags\n",
        "def convert(column):\n",
        "    column = column[0]\n",
        "    if (type(column) != list):\n",
        "        return \"\".join(literal_eval(column))\n",
        "    else:\n",
        "        return column\n",
        "# dataset.head(1)"
      ]
    },
    {
      "cell_type": "code",
      "execution_count": 33,
      "metadata": {
        "id": "yab-KMRUX0hw"
      },
      "outputs": [
        {
          "name": "stderr",
          "output_type": "stream",
          "text": [
            "/var/folders/bb/lk1lsv4s6r3f8nb7k99hxq6w0000gn/T/ipykernel_33763/2726750827.py:3: FutureWarning: Series.__getitem__ treating keys as positions is deprecated. In a future version, integer keys will always be treated as labels (consistent with DataFrame behavior). To access a value by position, use `ser.iloc[pos]`\n",
            "  column = column[0]\n"
          ]
        },
        {
          "data": {
            "text/plain": [
              "0     Leisure trip  Couple  Duplex Double Room  Sta...\n",
              "1     Leisure trip  Couple  Duplex Double Room  Sta...\n",
              "2     Leisure trip  Family with young children  Dup...\n",
              "Name: Tags, dtype: object"
            ]
          },
          "execution_count": 33,
          "metadata": {},
          "output_type": "execute_result"
        }
      ],
      "source": [
        "# will call the convert function to change object dataType of column Tags to Srting\n",
        "data['Tags'] = data[['Tags']].apply(convert, axis= 1)\n",
        "data.Tags.head(3)"
      ]
    },
    {
      "cell_type": "code",
      "execution_count": 34,
      "metadata": {
        "id": "lUAAyLXNX0kp"
      },
      "outputs": [],
      "source": [
        "# To simplicty => change Countries and Tags columns to lowercase\n",
        "data[\"Tags\"]= data[\"Tags\"].str.lower()\n",
        "data[\"countries\"]= data[\"countries\"].str.lower()"
      ]
    },
    {
      "cell_type": "code",
      "execution_count": 36,
      "metadata": {
        "id": "fESRf6lGF3T5"
      },
      "outputs": [],
      "source": [
        "#  model\n",
        "# location => Counties , description => Tags\n",
        "def recomender(location , description):\n",
        "#  lemmatiaztion for Tags column\n",
        "    description =  description.lower()\n",
        "    word_tokenize(description)\n",
        "    stop_words  =  stopwords.words(\"english\")\n",
        "    lemm  =  WordNetLemmatizer()\n",
        "\n",
        "#     cheching there is a stopwords, if no will add at list\n",
        "    filtered= {word for word in description if not word in stop_words}\n",
        "    filtered_set = set()\n",
        "    for fs in filtered:\n",
        "        filtered_set.add(lemm.lemmatize(fs))\n",
        "\n",
        "\n",
        "#    creating varible refer to all countires == to location i want\n",
        "    country = data[data['countries']==location.lower()]\n",
        "#     set index by using numpy                   shape[0]=> [0]> num of rows\n",
        "    country = country.set_index(np.arange(country.shape[0]))\n",
        "\n",
        "    list1 = []\n",
        "    list2 = []\n",
        "    cos   = []\n",
        "\n",
        "#     for loop to iteration of all rows\n",
        "    for i in range(country.shape[0]):\n",
        "\n",
        "#     make tokinze and then, filter from stopwords\n",
        "        temp_token = word_tokenize(country[\"Tags\"][i])\n",
        "        temp_set   = [word for word in temp_token if not word in stop_words]\n",
        "#       list grouping the lemmatizetion of words tokenization\n",
        "        temp2_set =set()\n",
        "        for xx in temp_set:\n",
        "            temp2_set.add(lemm.lemmatize(xx))\n",
        "        vector = temp2_set.intersection(filtered_set)\n",
        "        cos.append(len(vector))\n",
        "    country['similarity'] = cos\n",
        "#     arange hotels by using tags rating\n",
        "    country = country.sort_values(by=\"similarity\", ascending=False)\n",
        "#                                   require            ,optional ^defult\n",
        "    country.drop_duplicates(subset='Hotel_Name', keep=\"first\", inplace= True)\n",
        "\n",
        "    country.sort_values('Average_Score', ascending=False, inplace=True)\n",
        "    country.reset_index(inplace = True)\n",
        "    return country[[\"Hotel_Name\", \"Average_Score\", \"Hotel_Address\"]].head(10)"
      ]
    },
    {
      "cell_type": "code",
      "execution_count": 37,
      "metadata": {
        "id": "d3fHIB-_lS-A"
      },
      "outputs": [
        {
          "data": {
            "text/html": [
              "<div>\n",
              "<style scoped>\n",
              "    .dataframe tbody tr th:only-of-type {\n",
              "        vertical-align: middle;\n",
              "    }\n",
              "\n",
              "    .dataframe tbody tr th {\n",
              "        vertical-align: top;\n",
              "    }\n",
              "\n",
              "    .dataframe thead th {\n",
              "        text-align: right;\n",
              "    }\n",
              "</style>\n",
              "<table border=\"1\" class=\"dataframe\">\n",
              "  <thead>\n",
              "    <tr style=\"text-align: right;\">\n",
              "      <th></th>\n",
              "      <th>Hotel_Name</th>\n",
              "      <th>Average_Score</th>\n",
              "      <th>Hotel_Address</th>\n",
              "    </tr>\n",
              "  </thead>\n",
              "  <tbody>\n",
              "    <tr>\n",
              "      <th>0</th>\n",
              "      <td>Ritz Paris</td>\n",
              "      <td>9.8</td>\n",
              "      <td>15 Place Vend me 1st arr 75001 Paris FR</td>\n",
              "    </tr>\n",
              "    <tr>\n",
              "      <th>1</th>\n",
              "      <td>H tel de La Tamise Esprit de France</td>\n",
              "      <td>9.6</td>\n",
              "      <td>4 rue d Alger 1st arr 75001 Paris FR</td>\n",
              "    </tr>\n",
              "    <tr>\n",
              "      <th>2</th>\n",
              "      <td>Le Narcisse Blanc Spa</td>\n",
              "      <td>9.5</td>\n",
              "      <td>19 Boulevard De La Tour Maubourg 7th arr 75007...</td>\n",
              "    </tr>\n",
              "    <tr>\n",
              "      <th>3</th>\n",
              "      <td>Hotel The Peninsula Paris</td>\n",
              "      <td>9.5</td>\n",
              "      <td>19 avenue Kleber 16th arr 75116 Paris FR</td>\n",
              "    </tr>\n",
              "    <tr>\n",
              "      <th>4</th>\n",
              "      <td>La Chambre du Marais</td>\n",
              "      <td>9.4</td>\n",
              "      <td>85 87 RUE DES ARCHIVES 3rd arr 75003 Paris FR</td>\n",
              "    </tr>\n",
              "    <tr>\n",
              "      <th>5</th>\n",
              "      <td>Goralska R sidences H tel Paris Bastille</td>\n",
              "      <td>9.4</td>\n",
              "      <td>7 Boulevard Bourdon 4th arr 75004 Paris FR</td>\n",
              "    </tr>\n",
              "    <tr>\n",
              "      <th>6</th>\n",
              "      <td>Nolinski Paris</td>\n",
              "      <td>9.4</td>\n",
              "      <td>16 Avenue de l Opera 1st arr 75001 Paris FR</td>\n",
              "    </tr>\n",
              "    <tr>\n",
              "      <th>7</th>\n",
              "      <td>Splendide Royal Paris</td>\n",
              "      <td>9.4</td>\n",
              "      <td>18 Rue du Cirque 8th arr 75008 Paris FR</td>\n",
              "    </tr>\n",
              "    <tr>\n",
              "      <th>8</th>\n",
              "      <td>Hotel Monge</td>\n",
              "      <td>9.4</td>\n",
              "      <td>55 rue Monge 5th arr 75005 Paris FR</td>\n",
              "    </tr>\n",
              "    <tr>\n",
              "      <th>9</th>\n",
              "      <td>Hotel Eiffel Blomet</td>\n",
              "      <td>9.4</td>\n",
              "      <td>78 Rue Blomet 15th arr 75015 Paris FR</td>\n",
              "    </tr>\n",
              "  </tbody>\n",
              "</table>\n",
              "</div>"
            ],
            "text/plain": [
              "                                 Hotel_Name  Average_Score  \\\n",
              "0                                Ritz Paris            9.8   \n",
              "1       H tel de La Tamise Esprit de France            9.6   \n",
              "2                     Le Narcisse Blanc Spa            9.5   \n",
              "3                 Hotel The Peninsula Paris            9.5   \n",
              "4                      La Chambre du Marais            9.4   \n",
              "5  Goralska R sidences H tel Paris Bastille            9.4   \n",
              "6                            Nolinski Paris            9.4   \n",
              "7                     Splendide Royal Paris            9.4   \n",
              "8                               Hotel Monge            9.4   \n",
              "9                       Hotel Eiffel Blomet            9.4   \n",
              "\n",
              "                                       Hotel_Address  \n",
              "0            15 Place Vend me 1st arr 75001 Paris FR  \n",
              "1               4 rue d Alger 1st arr 75001 Paris FR  \n",
              "2  19 Boulevard De La Tour Maubourg 7th arr 75007...  \n",
              "3           19 avenue Kleber 16th arr 75116 Paris FR  \n",
              "4      85 87 RUE DES ARCHIVES 3rd arr 75003 Paris FR  \n",
              "5         7 Boulevard Bourdon 4th arr 75004 Paris FR  \n",
              "6        16 Avenue de l Opera 1st arr 75001 Paris FR  \n",
              "7            18 Rue du Cirque 8th arr 75008 Paris FR  \n",
              "8                55 rue Monge 5th arr 75005 Paris FR  \n",
              "9              78 Rue Blomet 15th arr 75015 Paris FR  "
            ]
          },
          "execution_count": 37,
          "metadata": {},
          "output_type": "execute_result"
        }
      ],
      "source": [
        "recomender('FR','Business trip')"
      ]
    }
  ],
  "metadata": {
    "colab": {
      "provenance": []
    },
    "kernelspec": {
      "display_name": "Python 3",
      "name": "python3"
    },
    "language_info": {
      "codemirror_mode": {
        "name": "ipython",
        "version": 3
      },
      "file_extension": ".py",
      "mimetype": "text/x-python",
      "name": "python",
      "nbconvert_exporter": "python",
      "pygments_lexer": "ipython3",
      "version": "3.11.6"
    }
  },
  "nbformat": 4,
  "nbformat_minor": 0
}
